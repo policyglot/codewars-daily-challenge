{
 "cells": [
  {
   "cell_type": "markdown",
   "metadata": {},
   "source": [
    "All Star Code Challenge #18\n",
    "\n",
    "Create a function called that accepts 2 string arguments and returns an integer of the count of occurrences the 2nd argument is found in the first one.\n",
    "\n",
    "If no occurrences can be found, a count of 0 should be returned.\n",
    "\n",
    "strCount('Hello', 'o') // => 1\n",
    "strCount('Hello', 'l') // => 2\n",
    "strCount('', 'z') // => 0\n",
    "Notes:\n",
    "\n",
    "The first argument can be an empty string\n",
    "The second string argument will always be of length "
   ]
  },
  {
   "cell_type": "markdown",
   "metadata": {},
   "source": [
    "Seems fairly basic. Let's see what we come up with. "
   ]
  },
  {
   "cell_type": "code",
   "execution_count": null,
   "metadata": {},
   "outputs": [],
   "source": [
    "def str_count(strng, letter):\n",
    "    counter= 0\n",
    "    for character in strng:\n",
    "        \n",
    "        if character==letter:\n",
    "            print(character)\n",
    "            counter=+ 1\n",
    "            print(counter)\n",
    "    return counter"
   ]
  }
 ],
 "metadata": {
  "kernelspec": {
   "display_name": "Python 3",
   "language": "python",
   "name": "python3"
  },
  "language_info": {
   "codemirror_mode": {
    "name": "ipython",
    "version": 3
   },
   "file_extension": ".py",
   "mimetype": "text/x-python",
   "name": "python",
   "nbconvert_exporter": "python",
   "pygments_lexer": "ipython3",
   "version": "3.6.5"
  }
 },
 "nbformat": 4,
 "nbformat_minor": 2
}
