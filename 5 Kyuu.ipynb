{
 "cells": [
  {
   "cell_type": "markdown",
   "metadata": {},
   "source": [
    "http://www.codewars.com/kata/all-star-code-challenge-number-23\n",
    "\n",
    "\n",
    "This Kata is intended as a small challenge for my students\n",
    "\n",
    "All Star Code Challenge #23\n",
    "\n",
    "There is a certain multiplayer game where players are assessed at the end of the game for merit. Players are ranked according to an internal scoring system that players don't see.\n",
    "\n",
    "You've discovered the formula for the scoring system!\n",
    "\n",
    "Create a function called scoring() that takes an array of Player objects and returns an array of player names, in order of descending score (highest score is index 0, 2nd highest is index 1, etc.).\n",
    "\n",
    "Each player's score is calculated as follows:\n",
    "\n",
    "Each normal kill is worth 100 points\n",
    "Each assist is worth 50 points\n",
    "Each point of damage done is worth .5 points\n",
    "Each point of healing done is worth 1 point\n",
    "The longest kill streak is worth 2^N, where N is the number of kills of the streak\n",
    "Environmental kills are worth 500 points (These are counted separately from normal kills)\n",
    "For each of the above statistic, a Player object contains a respective \"key:value\" pairing. All values except the 'name' are integers.\n",
    "\n",
    "var player1 = {\n",
    "  name: \"JuanPablo\",\n",
    "  normKill: 5,\n",
    "  assist: 12,\n",
    "  damage: 3200,\n",
    "  healing: 0,\n",
    "  streak: 4,\n",
    "  envKill: 1\n",
    "}\n",
    "var player2 = {\n",
    "  name: \"ProfX\",\n",
    "  normKill: 2,\n",
    "  assist: 14,\n",
    "  damage: 600,\n",
    "  healing: 1500,\n",
    "  streak: 0,\n",
    "  envKill: 0\n",
    "}\n",
    "scoring([player1, player2]); \n",
    "//[\"JuanPable\",\"ProfX\"]\n",
    "// Scores of 3216 and 2701, respectively.\n",
    "Note:\n",
    "Assume the input array will ALWAYS have a properly constructed Player object (no missing keys or values)\n",
    "Names will not contain unusual characters nor repeat (names are unique)\n",
    "Players with the same score should be sorted by the order they appear in the array\n",
    "For simplicity, for a kill streak of 0 the kill streak calculation will yield 1 (or 20) points"
   ]
  },
  {
   "cell_type": "code",
   "execution_count": null,
   "metadata": {},
   "outputs": [],
   "source": [
    "def scoring(array):\n",
    "    #your code here"
   ]
  }
 ],
 "metadata": {
  "kernelspec": {
   "display_name": "Python 3",
   "language": "python",
   "name": "python3"
  },
  "language_info": {
   "codemirror_mode": {
    "name": "ipython",
    "version": 3
   },
   "file_extension": ".py",
   "mimetype": "text/x-python",
   "name": "python",
   "nbconvert_exporter": "python",
   "pygments_lexer": "ipython3",
   "version": "3.6.5"
  }
 },
 "nbformat": 4,
 "nbformat_minor": 2
}
